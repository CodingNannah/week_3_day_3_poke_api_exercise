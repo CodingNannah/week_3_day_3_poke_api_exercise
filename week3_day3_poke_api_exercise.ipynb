{
 "cells": [
  {
   "cell_type": "markdown",
   "id": "7b82ba3d",
   "metadata": {},
   "source": [
    "# Exercise"
   ]
  },
  {
   "cell_type": "markdown",
   "id": "6ff23c7b",
   "metadata": {},
   "source": [
    "#### Pokemon API Wrapper"
   ]
  },
  {
   "cell_type": "markdown",
   "id": "5ff1ff8d",
   "metadata": {},
   "source": [
    "Create a python wrapper for the Pokemon API. It should take in a pokemon name and display the pokemon with its height and weight"
   ]
  },
  {
   "cell_type": "code",
   "execution_count": 2,
   "id": "cc26e596",
   "metadata": {},
   "outputs": [
    {
     "name": "stdout",
     "output_type": "stream",
     "text": [
      "<module 'requests' from 'C:\\\\Users\\\\shaun\\\\anaconda3\\\\lib\\\\site-packages\\\\requests\\\\__init__.py'>\n"
     ]
    }
   ],
   "source": [
    "import requests\n",
    "\n",
    "print(requests)"
   ]
  },
  {
   "cell_type": "code",
   "execution_count": 9,
   "id": "244cbb7e",
   "metadata": {},
   "outputs": [
    {
     "name": "stdout",
     "output_type": "stream",
     "text": [
      "https://pokeapi.co/api/v2/pokemon/psyduck\n"
     ]
    }
   ],
   "source": [
    "poke_base_url = 'https://pokeapi.co/api/v2/'\n",
    "endpoint = 'pokemon/'\n",
    "id_or_name = 'psyduck'\n",
    "\n",
    "poke_api_url = f\"{poke_base_url}{endpoint}{id_or_name}\"\n",
    "print(poke_api_url)"
   ]
  },
  {
   "cell_type": "code",
   "execution_count": 10,
   "id": "b921eb2f",
   "metadata": {},
   "outputs": [
    {
     "name": "stdout",
     "output_type": "stream",
     "text": [
      "<Response [200]>\n"
     ]
    }
   ],
   "source": [
    "response = requests.get(poke_api_url)\n",
    "print(response)"
   ]
  },
  {
   "cell_type": "code",
   "execution_count": 11,
   "id": "892006ea",
   "metadata": {},
   "outputs": [],
   "source": [
    "poke_data = response.json()"
   ]
  },
  {
   "cell_type": "code",
   "execution_count": 12,
   "id": "93a6e0b3",
   "metadata": {},
   "outputs": [
    {
     "name": "stdout",
     "output_type": "stream",
     "text": [
      "8\n",
      "196\n"
     ]
    }
   ],
   "source": [
    "print(poke_data['height'])\n",
    "print(poke_data['weight'])"
   ]
  },
  {
   "cell_type": "code",
   "execution_count": 15,
   "id": "eedb4387",
   "metadata": {},
   "outputs": [
    {
     "name": "stdout",
     "output_type": "stream",
     "text": [
      "\n",
      "        I choose you! Psyduck, GO! \n",
      "        Psyduck joins the match at 0.8 meters tall. Look at that little fella go!\n",
      "        For a small Pokemon Psyduck weighs a whopping 196kg!\n",
      "        \n"
     ]
    }
   ],
   "source": [
    "class PokeAPI:\n",
    "    \n",
    "    def __init__(self, poke_base_url):\n",
    "        \n",
    "        self.poke_base_url = poke_base_url\n",
    "    \n",
    "    \n",
    "    def _get(self, id_or_name, endpoint):\n",
    "        \n",
    "        request_url = f\"{self.poke_base_url}{endpoint}{id_or_name}\"\n",
    "        poke_response = requests.get(request_url)\n",
    "        \n",
    "        if poke_response.ok:\n",
    "            return poke_response.json()\n",
    "        else:\n",
    "            print(\"There was an error\")\n",
    "        \n",
    "    \n",
    "    def get_height_weight(self, poke_name):\n",
    "        \n",
    "        poke_data = self._get(poke_name, 'pokemon/')\n",
    "        height = poke_data['height']\n",
    "        weight = poke_data['weight']\n",
    "        print(f\"\"\"\n",
    "        I choose you! {poke_name.title()}, GO! \n",
    "        {poke_name.title()} joins the match at 0.{height} meters tall. Look at that little fella go!\n",
    "        For a small Pokemon {poke_name.title()} weighs a whopping {weight}kg!\n",
    "        \"\"\")\n",
    "        \n",
    "        \n",
    "        \n",
    "pokemon = PokeAPI('https://pokeapi.co/api/v2/')        \n",
    "        \n",
    "pokemon.get_height_weight('psyduck')        \n",
    "        \n",
    "        "
   ]
  }
 ],
 "metadata": {
  "kernelspec": {
   "display_name": "Python 3 (ipykernel)",
   "language": "python",
   "name": "python3"
  },
  "language_info": {
   "codemirror_mode": {
    "name": "ipython",
    "version": 3
   },
   "file_extension": ".py",
   "mimetype": "text/x-python",
   "name": "python",
   "nbconvert_exporter": "python",
   "pygments_lexer": "ipython3",
   "version": "3.9.12"
  }
 },
 "nbformat": 4,
 "nbformat_minor": 5
}
