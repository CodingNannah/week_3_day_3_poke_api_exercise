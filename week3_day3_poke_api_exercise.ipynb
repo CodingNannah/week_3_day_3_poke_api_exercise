{
 "cells": [
  {
   "cell_type": "markdown",
   "id": "29b3ea4d",
   "metadata": {},
   "source": [
    "# Exercise"
   ]
  },
  {
   "cell_type": "markdown",
   "id": "f639f26a",
   "metadata": {},
   "source": [
    "#### Pokemon API Wrapper"
   ]
  },
  {
   "cell_type": "markdown",
   "id": "a819bf87",
   "metadata": {},
   "source": [
    "Create a python wrapper for the Pokemon API. It should take in a pokemon name and display the pokemon with its height and weight"
   ]
  },
  {
   "cell_type": "code",
   "execution_count": 1,
   "id": "a263a301",
   "metadata": {},
   "outputs": [
    {
     "name": "stdout",
     "output_type": "stream",
     "text": [
      "<module 'requests' from 'C:\\\\Users\\\\shaun\\\\anaconda3\\\\lib\\\\site-packages\\\\requests\\\\__init__.py'>\n"
     ]
    }
   ],
   "source": [
    "import requests\n",
    "\n",
    "print(requests)"
   ]
  },
  {
   "cell_type": "code",
   "execution_count": 2,
   "id": "4ff8853d",
   "metadata": {},
   "outputs": [
    {
     "name": "stdout",
     "output_type": "stream",
     "text": [
      "https://pokeapi.co/api/v2/pokemon/psyduck\n"
     ]
    }
   ],
   "source": [
    "poke_base_url = 'https://pokeapi.co/api/v2/'\n",
    "endpoint = 'pokemon/'\n",
    "id_or_name = 'psyduck'\n",
    "\n",
    "poke_api_url = f\"{poke_base_url}{endpoint}{id_or_name}\"\n",
    "print(poke_api_url)"
   ]
  },
  {
   "cell_type": "code",
   "execution_count": 3,
   "id": "5fc726c8",
   "metadata": {},
   "outputs": [
    {
     "name": "stdout",
     "output_type": "stream",
     "text": [
      "<Response [200]>\n"
     ]
    }
   ],
   "source": [
    "response = requests.get(poke_api_url)\n",
    "print(response)"
   ]
  },
  {
   "cell_type": "code",
   "execution_count": 4,
   "id": "86b98283",
   "metadata": {},
   "outputs": [],
   "source": [
    "poke_data = response.json()"
   ]
  },
  {
   "cell_type": "code",
   "execution_count": 5,
   "id": "1fdfcf82",
   "metadata": {},
   "outputs": [
    {
     "name": "stdout",
     "output_type": "stream",
     "text": [
      "8\n",
      "196\n"
     ]
    }
   ],
   "source": [
    "print(poke_data['height'])\n",
    "print(poke_data['weight'])"
   ]
  },
  {
   "cell_type": "code",
   "execution_count": 25,
   "id": "f3f904f1",
   "metadata": {},
   "outputs": [
    {
     "name": "stdout",
     "output_type": "stream",
     "text": [
      "\n",
      "I choose you! Psyduck, GO! \n",
      "Psyduck joins the match at 0.8 meters tall. Look at that little fella go!\n",
      "For a small Pokemon Psyduck weighs a whopping 196kg!\n",
      "        \n",
      "\n",
      "Fun Fact! Psyduck is a WATER type. \n",
      "Fascinating isn't it?\n",
      "        \n",
      "\n",
      "Did you know, Psyduck has some pretty awesome abilities like Swift-Swim?\n",
      "This allows Psyduck the ability to double the user's Speed stat when it's raining.\n",
      "Pretty handy, dont'cha think?\n",
      "        \n"
     ]
    }
   ],
   "source": [
    "class PokeAPI:\n",
    "    \n",
    "    def __init__(self, poke_base_url):\n",
    "        \n",
    "        self.poke_base_url = poke_base_url\n",
    "    \n",
    "    \n",
    "    def _get(self, id_or_name, endpoint):\n",
    "        \n",
    "        request_url = f\"{self.poke_base_url}{endpoint}{id_or_name}\"\n",
    "        poke_response = requests.get(request_url)\n",
    "        \n",
    "        if poke_response.ok:\n",
    "            return poke_response.json()\n",
    "        else:\n",
    "            print(\"There was an error\")\n",
    "        \n",
    "    \n",
    "    def get_height_weight(self, poke_name):\n",
    "        \n",
    "        poke_data = self._get(poke_name, 'pokemon/')\n",
    "        \n",
    "        height = poke_data['height']\n",
    "        weight = poke_data['weight']\n",
    "        \n",
    "        print(f\"\"\"\n",
    "I choose you! {poke_name.title()}, GO! \n",
    "{poke_name.title()} joins the match at 0.{height} meters tall. Look at that little fella go!\n",
    "For a small Pokemon {poke_name.title()} weighs a whopping {weight}kg!\n",
    "        \"\"\")\n",
    "        \n",
    "    def get_type(self, poke_name):\n",
    "        \n",
    "        poke_data = self._get(poke_name, 'pokemon/')\n",
    "        \n",
    "        poke_type = poke_data['types']\n",
    "        \n",
    "        for type in poke_type:\n",
    "            t = type['type']['name']\n",
    "        print(f\"\"\"\n",
    "Fun Fact! {poke_name.title()} is a {t.upper()} type. \n",
    "Fascinating isn't it?\n",
    "        \"\"\")\n",
    "        \n",
    "    def get_ability(self, poke_name):\n",
    "        \n",
    "        poke_data = self._get(poke_name, 'pokemon/')\n",
    "        \n",
    "        poke_ability = poke_data['abilities']\n",
    "        \n",
    "        for ability in poke_ability:\n",
    "            abi = ability['ability']['name']\n",
    "        print(f\"\"\"\n",
    "Did you know, {poke_name.title()} has some pretty awesome abilities like {abi.title()}?\n",
    "This allows {poke_name.title()} the ability to double the user's Speed stat when it's raining.\n",
    "Pretty handy, dont'cha think?\n",
    "        \"\"\")\n",
    "        \n",
    "        \n",
    "        \n",
    "pokemon = PokeAPI('https://pokeapi.co/api/v2/')        \n",
    "        \n",
    "pokemon.get_height_weight('psyduck')        \n",
    "        \n",
    "pokemon.get_type('psyduck')    \n",
    "\n",
    "pokemon.get_ability('psyduck')    "
   ]
  }
 ],
 "metadata": {
  "kernelspec": {
   "display_name": "Python 3 (ipykernel)",
   "language": "python",
   "name": "python3"
  },
  "language_info": {
   "codemirror_mode": {
    "name": "ipython",
    "version": 3
   },
   "file_extension": ".py",
   "mimetype": "text/x-python",
   "name": "python",
   "nbconvert_exporter": "python",
   "pygments_lexer": "ipython3",
   "version": "3.9.12"
  }
 },
 "nbformat": 4,
 "nbformat_minor": 5
}
