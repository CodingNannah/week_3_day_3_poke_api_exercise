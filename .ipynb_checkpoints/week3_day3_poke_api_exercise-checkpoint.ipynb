{
 "cells": [
  {
   "cell_type": "markdown",
   "id": "378d05db",
   "metadata": {},
   "source": [
    "# Exercise"
   ]
  },
  {
   "cell_type": "markdown",
   "id": "4f5595b6",
   "metadata": {},
   "source": [
    "#### Pokemon API Wrapper"
   ]
  },
  {
   "cell_type": "markdown",
   "id": "bef9618f",
   "metadata": {},
   "source": [
    "Create a python wrapper for the Pokemon API. It should take in a pokemon name and display the pokemon with its height and weight"
   ]
  },
  {
   "cell_type": "code",
   "execution_count": 1,
   "id": "08824962",
   "metadata": {},
   "outputs": [
    {
     "name": "stdout",
     "output_type": "stream",
     "text": [
      "<module 'requests' from 'C:\\\\Users\\\\shaun\\\\anaconda3\\\\lib\\\\site-packages\\\\requests\\\\__init__.py'>\n"
     ]
    }
   ],
   "source": [
    "import requests\n",
    "\n",
    "print(requests)"
   ]
  },
  {
   "cell_type": "code",
   "execution_count": 14,
   "id": "5a30fc26",
   "metadata": {},
   "outputs": [
    {
     "name": "stdout",
     "output_type": "stream",
     "text": [
      "https://pokeapi.co/api/v2/pokemon/psyduck\n"
     ]
    }
   ],
   "source": [
    "poke_base_url = 'https://pokeapi.co/api/v2/'\n",
    "endpoint = 'pokemon/'\n",
    "id_or_name = 'psyduck'\n",
    "\n",
    "poke_api_url = f\"{poke_base_url}{endpoint}{id_or_name}\"\n",
    "print(poke_api_url)"
   ]
  },
  {
   "cell_type": "code",
   "execution_count": 15,
   "id": "9776cc8e",
   "metadata": {},
   "outputs": [
    {
     "name": "stdout",
     "output_type": "stream",
     "text": [
      "<Response [200]>\n"
     ]
    }
   ],
   "source": [
    "response = requests.get(poke_api_url)\n",
    "print(response)"
   ]
  },
  {
   "cell_type": "code",
   "execution_count": 16,
   "id": "ded424c1",
   "metadata": {},
   "outputs": [],
   "source": [
    "poke_data = response.json()"
   ]
  },
  {
   "cell_type": "code",
   "execution_count": 17,
   "id": "2909d61b",
   "metadata": {},
   "outputs": [
    {
     "name": "stdout",
     "output_type": "stream",
     "text": [
      "8\n",
      "196\n"
     ]
    }
   ],
   "source": [
    "print(poke_data['height'])\n",
    "print(poke_data['weight'])"
   ]
  },
  {
   "cell_type": "code",
   "execution_count": 19,
   "id": "a2051524",
   "metadata": {},
   "outputs": [
    {
     "ename": "NameError",
     "evalue": "name 'poke_reponse' is not defined",
     "output_type": "error",
     "traceback": [
      "\u001b[1;31m---------------------------------------------------------------------------\u001b[0m",
      "\u001b[1;31mNameError\u001b[0m                                 Traceback (most recent call last)",
      "Input \u001b[1;32mIn [19]\u001b[0m, in \u001b[0;36m<cell line: 36>\u001b[1;34m()\u001b[0m\n\u001b[0;32m     22\u001b[0m         \u001b[38;5;28mprint\u001b[39m(poke_data)\n\u001b[0;32m     34\u001b[0m pokemon \u001b[38;5;241m=\u001b[39m PokeAPI(\u001b[38;5;124m'\u001b[39m\u001b[38;5;124mhttps://pokeapi.co/api/v2/\u001b[39m\u001b[38;5;124m'\u001b[39m)        \n\u001b[1;32m---> 36\u001b[0m \u001b[43mpokemon\u001b[49m\u001b[38;5;241;43m.\u001b[39;49m\u001b[43mget_height_weight\u001b[49m\u001b[43m(\u001b[49m\u001b[38;5;124;43m'\u001b[39;49m\u001b[38;5;124;43mpsyduck\u001b[39;49m\u001b[38;5;124;43m'\u001b[39;49m\u001b[43m)\u001b[49m\n",
      "Input \u001b[1;32mIn [19]\u001b[0m, in \u001b[0;36mPokeAPI.get_height_weight\u001b[1;34m(self, poke_name)\u001b[0m\n\u001b[0;32m     19\u001b[0m \u001b[38;5;28;01mdef\u001b[39;00m \u001b[38;5;21mget_height_weight\u001b[39m(\u001b[38;5;28mself\u001b[39m, poke_name):\n\u001b[1;32m---> 21\u001b[0m     poke_data \u001b[38;5;241m=\u001b[39m \u001b[38;5;28;43mself\u001b[39;49m\u001b[38;5;241;43m.\u001b[39;49m\u001b[43m_get\u001b[49m\u001b[43m(\u001b[49m\u001b[43mpoke_name\u001b[49m\u001b[43m,\u001b[49m\u001b[43m \u001b[49m\u001b[38;5;124;43m'\u001b[39;49m\u001b[38;5;124;43mpokemon/\u001b[39;49m\u001b[38;5;124;43m'\u001b[39;49m\u001b[43m)\u001b[49m\n\u001b[0;32m     22\u001b[0m     \u001b[38;5;28mprint\u001b[39m(poke_data)\n",
      "Input \u001b[1;32mIn [19]\u001b[0m, in \u001b[0;36mPokeAPI._get\u001b[1;34m(self, id_or_name, endpoint)\u001b[0m\n\u001b[0;32m     10\u001b[0m request_url \u001b[38;5;241m=\u001b[39m \u001b[38;5;124mf\u001b[39m\u001b[38;5;124m\"\u001b[39m\u001b[38;5;132;01m{\u001b[39;00m\u001b[38;5;28mself\u001b[39m\u001b[38;5;241m.\u001b[39mpoke_base_url\u001b[38;5;132;01m}\u001b[39;00m\u001b[38;5;132;01m{\u001b[39;00mendpoint\u001b[38;5;132;01m}\u001b[39;00m\u001b[38;5;132;01m{\u001b[39;00mid_or_name\u001b[38;5;132;01m}\u001b[39;00m\u001b[38;5;124m\"\u001b[39m\n\u001b[0;32m     11\u001b[0m poke_response \u001b[38;5;241m=\u001b[39m requests\u001b[38;5;241m.\u001b[39mget(request_url)\n\u001b[1;32m---> 13\u001b[0m \u001b[38;5;28;01mif\u001b[39;00m \u001b[43mpoke_reponse\u001b[49m\u001b[38;5;241m.\u001b[39mok:\n\u001b[0;32m     14\u001b[0m     \u001b[38;5;28;01mreturn\u001b[39;00m poke_response\u001b[38;5;241m.\u001b[39mjson()\n\u001b[0;32m     15\u001b[0m \u001b[38;5;28;01melse\u001b[39;00m:\n",
      "\u001b[1;31mNameError\u001b[0m: name 'poke_reponse' is not defined"
     ]
    }
   ],
   "source": [
    "class PokeAPI:\n",
    "    \n",
    "    def __init__(self, poke_base_url):\n",
    "        \n",
    "        self.poke_base_url = poke_base_url\n",
    "    \n",
    "    \n",
    "    def _get(self, id_or_name, endpoint):\n",
    "        \n",
    "        request_url = f\"{self.poke_base_url}{endpoint}{id_or_name}\"\n",
    "        poke_response = requests.get(request_url)\n",
    "        \n",
    "        if poke_reponse.ok:\n",
    "            return poke_response.json()\n",
    "        else:\n",
    "            print(\"There was an error\")\n",
    "        \n",
    "    \n",
    "    def get_height_weight(self, poke_name):\n",
    "        \n",
    "        poke_data = self._get(poke_name, 'pokemon/')\n",
    "        print(poke_data)\n",
    "        \n",
    "        \n",
    "        \n",
    "        \n",
    "        \n",
    "        \n",
    "        \n",
    "        \n",
    "        \n",
    "        \n",
    "        \n",
    "pokemon = PokeAPI('https://pokeapi.co/api/v2/')        \n",
    "        \n",
    "pokemon.get_height_weight('psyduck')        \n",
    "        \n",
    "        "
   ]
  }
 ],
 "metadata": {
  "kernelspec": {
   "display_name": "Python 3 (ipykernel)",
   "language": "python",
   "name": "python3"
  },
  "language_info": {
   "codemirror_mode": {
    "name": "ipython",
    "version": 3
   },
   "file_extension": ".py",
   "mimetype": "text/x-python",
   "name": "python",
   "nbconvert_exporter": "python",
   "pygments_lexer": "ipython3",
   "version": "3.9.12"
  }
 },
 "nbformat": 4,
 "nbformat_minor": 5
}
